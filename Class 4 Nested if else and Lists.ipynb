{
 "cells": [
  {
   "cell_type": "markdown",
   "id": "53e21215",
   "metadata": {},
   "source": [
    "### Nested If Else"
   ]
  },
  {
   "cell_type": "code",
   "execution_count": 11,
   "id": "9dc2b6c3",
   "metadata": {},
   "outputs": [
    {
     "name": "stdout",
     "output_type": "stream",
     "text": [
      "give the test\n",
      "Did u passed?no\n",
      "Try again\n"
     ]
    }
   ],
   "source": [
    "matric = True\n",
    "if matric:\n",
    "    print(\"give the test\")\n",
    "    test = input(\"Did u passed?\")\n",
    "    if test == \"yes\":\n",
    "        print(\"Congrats\")\n",
    "    else:\n",
    "        print(\"Try again\")\n",
    "else:\n",
    "    print(\"you must be matric pass\") "
   ]
  },
  {
   "cell_type": "code",
   "execution_count": 20,
   "id": "c9820329",
   "metadata": {},
   "outputs": [
    {
     "name": "stdout",
     "output_type": "stream",
     "text": [
      "matric passed?(yes/no)yes\n",
      "test passed?(yes/no)yes\n",
      "welcome\n"
     ]
    }
   ],
   "source": [
    "matric = input(\"matric passed?(yes/no)\")\n",
    "test = input(\"test passed?(yes/no)\")\n",
    "if matric ==\"yes\" and test == \"yes\":\n",
    "    print(\"welcome\")\n",
    "else:\n",
    "    print(\"try again\")"
   ]
  },
  {
   "cell_type": "markdown",
   "id": "378b1477",
   "metadata": {},
   "source": [
    "### Lists"
   ]
  },
  {
   "cell_type": "code",
   "execution_count": 34,
   "id": "bc7e7512",
   "metadata": {},
   "outputs": [],
   "source": [
    "cities = [\"jamshoro\",\"mohenjodaro\",\"harappa\",\"ghotki\",\"jacobabad\"]"
   ]
  },
  {
   "cell_type": "code",
   "execution_count": 29,
   "id": "d9626c61",
   "metadata": {},
   "outputs": [
    {
     "data": {
      "text/plain": [
       "'ghotki'"
      ]
     },
     "execution_count": 29,
     "metadata": {},
     "output_type": "execute_result"
    }
   ],
   "source": [
    "cities[-1]"
   ]
  },
  {
   "cell_type": "code",
   "execution_count": 30,
   "id": "1c09ca35",
   "metadata": {},
   "outputs": [
    {
     "data": {
      "text/plain": [
       "'yes'"
      ]
     },
     "execution_count": 30,
     "metadata": {},
     "output_type": "execute_result"
    }
   ],
   "source": [
    "matric"
   ]
  },
  {
   "cell_type": "code",
   "execution_count": 37,
   "id": "4001bc41",
   "metadata": {},
   "outputs": [
    {
     "data": {
      "text/plain": [
       "['harappa', 'ghotki']"
      ]
     },
     "execution_count": 37,
     "metadata": {},
     "output_type": "execute_result"
    }
   ],
   "source": [
    "cities[2:4]"
   ]
  },
  {
   "cell_type": "code",
   "execution_count": 53,
   "id": "e37b933f",
   "metadata": {},
   "outputs": [
    {
     "data": {
      "text/plain": [
       "['mohenjodaro', 'harappa', 'ghotki']"
      ]
     },
     "execution_count": 53,
     "metadata": {},
     "output_type": "execute_result"
    }
   ],
   "source": [
    "cities[-4:-1]"
   ]
  },
  {
   "cell_type": "code",
   "execution_count": 56,
   "id": "ddff74cd",
   "metadata": {},
   "outputs": [
    {
     "data": {
      "text/plain": [
       "['jamshoro', 'ghotki']"
      ]
     },
     "execution_count": 56,
     "metadata": {},
     "output_type": "execute_result"
    }
   ],
   "source": [
    "cities[::3]"
   ]
  },
  {
   "cell_type": "code",
   "execution_count": 65,
   "id": "f1f485d6",
   "metadata": {},
   "outputs": [
    {
     "name": "stdout",
     "output_type": "stream",
     "text": [
      "['jacobabad', 'ghotki', 'harappa', 'mohenjodaro', 'jamshoro']\n"
     ]
    }
   ],
   "source": [
    "cities.reverse()\n",
    "print(cities)"
   ]
  },
  {
   "cell_type": "markdown",
   "id": "70b651c1",
   "metadata": {},
   "source": [
    "### Adding and Inserting values"
   ]
  },
  {
   "cell_type": "code",
   "execution_count": 68,
   "id": "73e80178",
   "metadata": {},
   "outputs": [],
   "source": [
    "cities.append(\"gharo\")"
   ]
  },
  {
   "cell_type": "code",
   "execution_count": 69,
   "id": "ae131750",
   "metadata": {},
   "outputs": [
    {
     "data": {
      "text/plain": [
       "['jacobabad', 'ghotki', 'harappa', 'mohenjodaro', 'jamshoro', 'gharo']"
      ]
     },
     "execution_count": 69,
     "metadata": {},
     "output_type": "execute_result"
    }
   ],
   "source": [
    "cities\n"
   ]
  },
  {
   "cell_type": "code",
   "execution_count": 76,
   "id": "e9700fe0",
   "metadata": {},
   "outputs": [],
   "source": [
    "cities.insert(0,\"gadap\")\n",
    "cities\n",
    "cities.remove(\"gadap\")\n"
   ]
  },
  {
   "cell_type": "code",
   "execution_count": 77,
   "id": "aacbac85",
   "metadata": {},
   "outputs": [
    {
     "data": {
      "text/plain": [
       "['gadap',\n",
       " 'gadap',\n",
       " 'gadap',\n",
       " 'gadap',\n",
       " 'jacobabad',\n",
       " 'ghotki',\n",
       " 'harappa',\n",
       " 'mohenjodaro',\n",
       " 'jamshoro',\n",
       " 'gharo']"
      ]
     },
     "execution_count": 77,
     "metadata": {},
     "output_type": "execute_result"
    }
   ],
   "source": [
    "cities\n"
   ]
  },
  {
   "cell_type": "code",
   "execution_count": 78,
   "id": "4dd377de",
   "metadata": {},
   "outputs": [],
   "source": [
    "cities.remove(\"gadap\")"
   ]
  },
  {
   "cell_type": "code",
   "execution_count": 79,
   "id": "dd21fa3a",
   "metadata": {},
   "outputs": [
    {
     "data": {
      "text/plain": [
       "['gadap',\n",
       " 'gadap',\n",
       " 'gadap',\n",
       " 'jacobabad',\n",
       " 'ghotki',\n",
       " 'harappa',\n",
       " 'mohenjodaro',\n",
       " 'jamshoro',\n",
       " 'gharo']"
      ]
     },
     "execution_count": 79,
     "metadata": {},
     "output_type": "execute_result"
    }
   ],
   "source": [
    "cities\n"
   ]
  },
  {
   "cell_type": "code",
   "execution_count": 80,
   "id": "99565476",
   "metadata": {},
   "outputs": [],
   "source": [
    "cities.remove(\"gadap\")"
   ]
  },
  {
   "cell_type": "code",
   "execution_count": 81,
   "id": "11800231",
   "metadata": {},
   "outputs": [],
   "source": [
    "cities.remove(\"gadap\")"
   ]
  },
  {
   "cell_type": "code",
   "execution_count": 82,
   "id": "6e74b3f2",
   "metadata": {},
   "outputs": [
    {
     "data": {
      "text/plain": [
       "['gadap', 'jacobabad', 'ghotki', 'harappa', 'mohenjodaro', 'jamshoro', 'gharo']"
      ]
     },
     "execution_count": 82,
     "metadata": {},
     "output_type": "execute_result"
    }
   ],
   "source": [
    "cities\n"
   ]
  },
  {
   "cell_type": "code",
   "execution_count": 83,
   "id": "972aeb2f",
   "metadata": {},
   "outputs": [],
   "source": [
    "cities.insert(0,\"karachi\")"
   ]
  },
  {
   "cell_type": "code",
   "execution_count": 84,
   "id": "f87f8135",
   "metadata": {},
   "outputs": [
    {
     "data": {
      "text/plain": [
       "['karachi',\n",
       " 'gadap',\n",
       " 'jacobabad',\n",
       " 'ghotki',\n",
       " 'harappa',\n",
       " 'mohenjodaro',\n",
       " 'jamshoro',\n",
       " 'gharo']"
      ]
     },
     "execution_count": 84,
     "metadata": {},
     "output_type": "execute_result"
    }
   ],
   "source": [
    "cities"
   ]
  },
  {
   "cell_type": "code",
   "execution_count": 87,
   "id": "57a509ab",
   "metadata": {},
   "outputs": [
    {
     "data": {
      "text/plain": [
       "['gadap', 'jacobabad', 'ghotki', 'harappa']"
      ]
     },
     "execution_count": 87,
     "metadata": {},
     "output_type": "execute_result"
    }
   ],
   "source": [
    "cities[1:5]"
   ]
  },
  {
   "cell_type": "markdown",
   "id": "cefa3cd4",
   "metadata": {},
   "source": [
    "### Deleting values from lists"
   ]
  },
  {
   "cell_type": "code",
   "execution_count": 88,
   "id": "2abd4159",
   "metadata": {},
   "outputs": [],
   "source": [
    "cities.remove(\"karachi\")"
   ]
  },
  {
   "cell_type": "code",
   "execution_count": 89,
   "id": "46e3ed27",
   "metadata": {},
   "outputs": [],
   "source": [
    "del(cities[6])"
   ]
  },
  {
   "cell_type": "code",
   "execution_count": 90,
   "id": "c46318fe",
   "metadata": {},
   "outputs": [
    {
     "data": {
      "text/plain": [
       "['gadap', 'jacobabad', 'ghotki', 'harappa', 'mohenjodaro', 'jamshoro']"
      ]
     },
     "execution_count": 90,
     "metadata": {},
     "output_type": "execute_result"
    }
   ],
   "source": [
    "cities"
   ]
  },
  {
   "cell_type": "markdown",
   "id": "0416714e",
   "metadata": {},
   "source": [
    "## Poping values from lists"
   ]
  },
  {
   "cell_type": "code",
   "execution_count": 91,
   "id": "06c12238",
   "metadata": {},
   "outputs": [],
   "source": [
    "city = cities.pop()"
   ]
  },
  {
   "cell_type": "code",
   "execution_count": 92,
   "id": "cb89e409",
   "metadata": {},
   "outputs": [
    {
     "data": {
      "text/plain": [
       "'jamshoro'"
      ]
     },
     "execution_count": 92,
     "metadata": {},
     "output_type": "execute_result"
    }
   ],
   "source": [
    "city"
   ]
  },
  {
   "cell_type": "code",
   "execution_count": 93,
   "id": "f740c33e",
   "metadata": {},
   "outputs": [
    {
     "data": {
      "text/plain": [
       "['gadap', 'jacobabad', 'ghotki', 'harappa', 'mohenjodaro']"
      ]
     },
     "execution_count": 93,
     "metadata": {},
     "output_type": "execute_result"
    }
   ],
   "source": [
    "cities"
   ]
  },
  {
   "cell_type": "code",
   "execution_count": 94,
   "id": "fc1a85de",
   "metadata": {},
   "outputs": [],
   "source": [
    "city = cities.pop()"
   ]
  },
  {
   "cell_type": "code",
   "execution_count": 95,
   "id": "280df531",
   "metadata": {},
   "outputs": [
    {
     "data": {
      "text/plain": [
       "'mohenjodaro'"
      ]
     },
     "execution_count": 95,
     "metadata": {},
     "output_type": "execute_result"
    }
   ],
   "source": [
    "city"
   ]
  },
  {
   "cell_type": "code",
   "execution_count": 96,
   "id": "0a6f4097",
   "metadata": {},
   "outputs": [
    {
     "data": {
      "text/plain": [
       "['gadap', 'jacobabad', 'ghotki', 'harappa']"
      ]
     },
     "execution_count": 96,
     "metadata": {},
     "output_type": "execute_result"
    }
   ],
   "source": [
    "cities"
   ]
  },
  {
   "cell_type": "code",
   "execution_count": null,
   "id": "d259e4cd",
   "metadata": {},
   "outputs": [],
   "source": []
  }
 ],
 "metadata": {
  "kernelspec": {
   "display_name": "Python 3 (ipykernel)",
   "language": "python",
   "name": "python3"
  },
  "language_info": {
   "codemirror_mode": {
    "name": "ipython",
    "version": 3
   },
   "file_extension": ".py",
   "mimetype": "text/x-python",
   "name": "python",
   "nbconvert_exporter": "python",
   "pygments_lexer": "ipython3",
   "version": "3.11.7"
  }
 },
 "nbformat": 4,
 "nbformat_minor": 5
}
