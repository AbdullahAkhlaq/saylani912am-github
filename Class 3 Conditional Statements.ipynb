{
 "cells": [
  {
   "cell_type": "markdown",
   "id": "c7a224e1-020d-4384-bcec-671df386516c",
   "metadata": {},
   "source": [
    "## Concatenation"
   ]
  },
  {
   "cell_type": "code",
   "execution_count": 6,
   "id": "6fd60f37-5419-4403-9801-fbb147b58bf7",
   "metadata": {},
   "outputs": [],
   "source": [
    "f_name = \"Abdullah\"\n",
    "l_name = \"Akhlaq\"\n",
    "age = 22\n",
    "weight = 55.5\n",
    "is_teacher = True"
   ]
  },
  {
   "cell_type": "markdown",
   "id": "341f7051-9ffb-46df-a210-b4b459710625",
   "metadata": {},
   "source": [
    "Method 1 to concatenate"
   ]
  },
  {
   "cell_type": "code",
   "execution_count": 7,
   "id": "5b657f90-7841-46cc-b389-3a7c4da5e794",
   "metadata": {},
   "outputs": [
    {
     "data": {
      "text/plain": [
       "'Trainer Name of python class is Abdullah Akhlaq'"
      ]
     },
     "execution_count": 7,
     "metadata": {},
     "output_type": "execute_result"
    }
   ],
   "source": [
    "\"Trainer Name of python class is \" + f_name+\" \" + l_name"
   ]
  },
  {
   "cell_type": "markdown",
   "id": "40f6005a-fc1d-42e6-b737-cd1d805c5316",
   "metadata": {},
   "source": [
    "Method 2 to concatenate"
   ]
  },
  {
   "cell_type": "code",
   "execution_count": 8,
   "id": "bc9a2806-357e-45d1-98f7-2b8a6f9be8c4",
   "metadata": {},
   "outputs": [
    {
     "data": {
      "text/plain": [
       "'Trainer name of python class is Abdullah Akhlaq'"
      ]
     },
     "execution_count": 8,
     "metadata": {},
     "output_type": "execute_result"
    }
   ],
   "source": [
    "f\"Trainer name of python class is {f_name} {l_name}\""
   ]
  },
  {
   "cell_type": "markdown",
   "id": "2fb784c9-4c37-4330-bb8b-e84c63fc39ba",
   "metadata": {},
   "source": [
    "Method 3 to concatenate"
   ]
  },
  {
   "cell_type": "code",
   "execution_count": 10,
   "id": "02e16ab9-6004-43df-9d0f-bc112147682b",
   "metadata": {},
   "outputs": [
    {
     "name": "stdout",
     "output_type": "stream",
     "text": [
      "Trainer name of python class is Abdullah Akhlaq\n"
     ]
    }
   ],
   "source": [
    "print(\"Trainer name of python class is\", f_name, l_name)"
   ]
  },
  {
   "cell_type": "markdown",
   "id": "0f69512d-eed0-4b0c-adba-3bbff126d74c",
   "metadata": {},
   "source": [
    "### Conditional Statement"
   ]
  },
  {
   "cell_type": "markdown",
   "id": "e62e12b9-0bfa-4a5c-84b6-46ba1a2557f0",
   "metadata": {},
   "source": [
    "#### if else"
   ]
  },
  {
   "cell_type": "code",
   "execution_count": 17,
   "id": "030cd59f-f84d-4abc-90c6-54a69cecec08",
   "metadata": {},
   "outputs": [
    {
     "name": "stdout",
     "output_type": "stream",
     "text": [
      "Pakistani's will celebrate\n"
     ]
    }
   ],
   "source": [
    "result = \"win\" # \"win\"/\"loss\"\n",
    "\n",
    "if result == \"win\":\n",
    "    print(\"Pakistani's will celebrate\")\n",
    "else:\n",
    "    print(\"Pakistani's will critisize\")"
   ]
  },
  {
   "cell_type": "code",
   "execution_count": 18,
   "id": "484368a5-38b9-46ee-a6a0-6cbdbbf8d552",
   "metadata": {},
   "outputs": [
    {
     "data": {
      "text/plain": [
       "True"
      ]
     },
     "execution_count": 18,
     "metadata": {},
     "output_type": "execute_result"
    }
   ],
   "source": [
    "result == \"win\""
   ]
  },
  {
   "cell_type": "markdown",
   "id": "c53b84b0-e85f-4dba-b181-e68a34c9a8dd",
   "metadata": {},
   "source": [
    "#### if-elif-else"
   ]
  },
  {
   "cell_type": "code",
   "execution_count": 22,
   "id": "3fcac969-5651-4164-98ee-2ff8b554b88d",
   "metadata": {},
   "outputs": [
    {
     "name": "stdout",
     "output_type": "stream",
     "text": [
      "Team gets one point\n"
     ]
    }
   ],
   "source": [
    "result = \"tie\"\n",
    "\n",
    "if result == \"win\":\n",
    "    print(\"Pakistani's will celebrate\")\n",
    "elif result == \"tie\":\n",
    "    print(\"Team gets one point\")\n",
    "else:\n",
    "    print(\"Pakistani's will critisize\")"
   ]
  },
  {
   "cell_type": "code",
   "execution_count": 31,
   "id": "5927d07b-1317-4dfb-aaef-6a50f8374bd1",
   "metadata": {},
   "outputs": [
    {
     "name": "stdin",
     "output_type": "stream",
     "text": [
      "Enter vehicle:  civic\n"
     ]
    },
    {
     "name": "stdout",
     "output_type": "stream",
     "text": [
      "it is civic\n"
     ]
    }
   ],
   "source": [
    "vehicle=(input(\"Enter vehicle: \"))\n",
    "\n",
    "if  vehicle == \"alto\":\n",
    "    print (\"it is alto\")\n",
    "elif vehicle == \"vigo\":\n",
    "    print(\"it is vigo\")\n",
    "elif vehicle == \"cultus\":\n",
    "    print (\"it is cultus\")\n",
    "elif vehicle == \"civic\":\n",
    "    print (f\"it is {vehicle}\")\n",
    "else :\n",
    "    print (\"not a car\")"
   ]
  },
  {
   "cell_type": "code",
   "execution_count": 34,
   "id": "035349cc-b649-4de3-a0af-2859cec3b165",
   "metadata": {},
   "outputs": [
    {
     "name": "stdout",
     "output_type": "stream",
     "text": [
      "Yep, it is a cat and status is ok and is of animal kingdom\n"
     ]
    }
   ],
   "source": [
    "species = \"cat\"\n",
    "\n",
    "if species == \"cat\":\n",
    "    status = \"ok\"\n",
    "    kingdom = \"animal\"\n",
    "print(f\"Yep, it is a {species} and status is {status} and is of {kingdom} kingdom\")"
   ]
  },
  {
   "cell_type": "code",
   "execution_count": 4,
   "id": "708e8ece-8462-4f41-b2f9-1ca62017f0dd",
   "metadata": {},
   "outputs": [
    {
     "name": "stdin",
     "output_type": "stream",
     "text": [
      "Enter your marks: 45\n"
     ]
    },
    {
     "name": "stdout",
     "output_type": "stream",
     "text": [
      "You have 45 marks, you have failed\n"
     ]
    }
   ],
   "source": [
    "marks= int(input(\"Enter your marks:\"))\n",
    "\n",
    "if marks >= 80:\n",
    "    print(\"Your grade is A+\")\n",
    "elif marks >= 70:\n",
    "    print(\"Your gade is B\")\n",
    "elif marks >= 60:\n",
    "    print(\"Your grade is C\")\n",
    "elif marks >= 50:\n",
    "    print(\"Your grade is D\")\n",
    "else:\n",
    "    print(f\"You have {marks} marks, you have failed\")"
   ]
  },
  {
   "cell_type": "markdown",
   "id": "8cd967bd-51da-4db7-a3c5-af426d00f9e7",
   "metadata": {},
   "source": [
    "### AND OR NOT"
   ]
  },
  {
   "cell_type": "code",
   "execution_count": 12,
   "id": "75cc542f-37a8-42c2-8364-ba1f4f7d6159",
   "metadata": {},
   "outputs": [
    {
     "name": "stdin",
     "output_type": "stream",
     "text": [
      "Enter your percentage:  90\n",
      "Enter your age: 22\n"
     ]
    },
    {
     "name": "stdout",
     "output_type": "stream",
     "text": [
      "Eligible to take admission in university\n"
     ]
    }
   ],
   "source": [
    "percentage_inter = int(input(\"Enter your percentage: \"))\n",
    "age_limit = int(input(\"Enter your age:\"))\n",
    "if (percentage_inter > 60) and (age_limit>=18):\n",
    "    print('Eligible to take admission in university')\n",
    "else:\n",
    "    print(\"Not eligible\")"
   ]
  }
 ],
 "metadata": {
  "kernelspec": {
   "display_name": "Python 3 (ipykernel)",
   "language": "python",
   "name": "python3"
  },
  "language_info": {
   "codemirror_mode": {
    "name": "ipython",
    "version": 3
   },
   "file_extension": ".py",
   "mimetype": "text/x-python",
   "name": "python",
   "nbconvert_exporter": "python",
   "pygments_lexer": "ipython3",
   "version": "3.11.7"
  }
 },
 "nbformat": 4,
 "nbformat_minor": 5
}
