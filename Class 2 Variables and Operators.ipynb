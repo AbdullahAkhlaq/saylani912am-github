{
 "cells": [
  {
   "cell_type": "markdown",
   "id": "2d6925ec-1c90-4b0a-8eaf-348fc13fb32d",
   "metadata": {},
   "source": [
    "# Saylani Class 2"
   ]
  },
  {
   "cell_type": "code",
   "execution_count": 46,
   "id": "62cfeab6",
   "metadata": {},
   "outputs": [
    {
     "name": "stdout",
     "output_type": "stream",
     "text": [
      "Saylani Class 2\n"
     ]
    }
   ],
   "source": [
    "print(\"Saylani Class 2\")"
   ]
  },
  {
   "cell_type": "markdown",
   "id": "4a83875d",
   "metadata": {},
   "source": [
    "### Variable"
   ]
  },
  {
   "cell_type": "code",
   "execution_count": 47,
   "id": "60e476b5",
   "metadata": {},
   "outputs": [
    {
     "name": "stdout",
     "output_type": "stream",
     "text": [
      "Abdullah\n",
      "<class 'str'>\n",
      "1847092535024\n"
     ]
    }
   ],
   "source": [
    "name = \"Abdullah\"   #string\n",
    "print(name)\n",
    "print(type(name))\n",
    "print(id(name))"
   ]
  },
  {
   "cell_type": "code",
   "execution_count": 48,
   "id": "1aed5c5d",
   "metadata": {},
   "outputs": [
    {
     "name": "stdout",
     "output_type": "stream",
     "text": [
      "22\n"
     ]
    },
    {
     "data": {
      "text/plain": [
       "140706274958424"
      ]
     },
     "execution_count": 48,
     "metadata": {},
     "output_type": "execute_result"
    }
   ],
   "source": [
    "age = 22            #integer\n",
    "print(age)\n",
    "id(age)"
   ]
  },
  {
   "cell_type": "code",
   "execution_count": 49,
   "id": "dba914a9",
   "metadata": {},
   "outputs": [
    {
     "name": "stdout",
     "output_type": "stream",
     "text": [
      "54.5\n"
     ]
    },
    {
     "data": {
      "text/plain": [
       "1847186076400"
      ]
     },
     "execution_count": 49,
     "metadata": {},
     "output_type": "execute_result"
    }
   ],
   "source": [
    "weight = 54.5       #float\n",
    "print(weight)\n",
    "id(weight)"
   ]
  },
  {
   "cell_type": "code",
   "execution_count": 50,
   "id": "89249ba8",
   "metadata": {},
   "outputs": [
    {
     "name": "stdout",
     "output_type": "stream",
     "text": [
      "True\n",
      "<class 'bool'>\n"
     ]
    },
    {
     "data": {
      "text/plain": [
       "140706273811504"
      ]
     },
     "execution_count": 50,
     "metadata": {},
     "output_type": "execute_result"
    }
   ],
   "source": [
    "is_present = True    #boolean\n",
    "print(is_present)\n",
    "print(type(is_present))\n",
    "id(is_present)"
   ]
  },
  {
   "cell_type": "code",
   "execution_count": 51,
   "id": "9049bb08",
   "metadata": {},
   "outputs": [
    {
     "data": {
      "text/plain": [
       "2"
      ]
     },
     "execution_count": 51,
     "metadata": {},
     "output_type": "execute_result"
    }
   ],
   "source": [
    "5//2"
   ]
  },
  {
   "cell_type": "code",
   "execution_count": 52,
   "id": "4fe09081-56cd-4922-8f43-1a781f2246f7",
   "metadata": {},
   "outputs": [
    {
     "name": "stdout",
     "output_type": "stream",
     "text": [
      " result is : 3\n"
     ]
    }
   ],
   "source": [
    "import math \n",
    "x = 5/2\n",
    "y = (math.ceil(x))\n",
    "print(\" result is :\",y)"
   ]
  },
  {
   "cell_type": "code",
   "execution_count": 53,
   "id": "24c908ad-4b98-4aec-abec-29ec0432a384",
   "metadata": {},
   "outputs": [
    {
     "data": {
      "text/plain": [
       "15"
      ]
     },
     "execution_count": 53,
     "metadata": {},
     "output_type": "execute_result"
    }
   ],
   "source": [
    "age = 15\n",
    "age"
   ]
  },
  {
   "cell_type": "code",
   "execution_count": 59,
   "id": "89fd7391-f6c1-439b-9b72-2c6b75cac2d7",
   "metadata": {},
   "outputs": [
    {
     "name": "stdin",
     "output_type": "stream",
     "text": [
      "Enter your age: 12\n"
     ]
    },
    {
     "name": "stdout",
     "output_type": "stream",
     "text": [
      "bye\n"
     ]
    }
   ],
   "source": [
    "age=input(\"Enter your age:\")\n",
    "if age == 20:\n",
    "    print(\"Hello\")\n",
    "else:\n",
    "    print(\"bye\")\n",
    "\n",
    "    \n",
    "        "
   ]
  },
  {
   "cell_type": "code",
   "execution_count": 56,
   "id": "84263c55-82e2-4721-9935-c59f5da8f951",
   "metadata": {},
   "outputs": [
    {
     "data": {
      "text/plain": [
       "('Abdullah', '32', 54.5, True)"
      ]
     },
     "execution_count": 56,
     "metadata": {},
     "output_type": "execute_result"
    }
   ],
   "source": [
    "name, age, weight,is_present\n"
   ]
  },
  {
   "cell_type": "markdown",
   "id": "fa674419-69b4-4494-b2b5-8c7f29822ed1",
   "metadata": {},
   "source": [
    "## Formating"
   ]
  },
  {
   "cell_type": "code",
   "execution_count": 73,
   "id": "f1b863ce-18c9-4f9b-8ddf-539232f9d914",
   "metadata": {},
   "outputs": [
    {
     "name": "stdout",
     "output_type": "stream",
     "text": [
      "Student name:  Abdullah\n",
      "Student age: 12\n",
      "Student weight:  54.5\n",
      "Is student present?: True\n"
     ]
    }
   ],
   "source": [
    "print(\"Student name: \",name)\n",
    "print(f\"Student age: {age}\")\n",
    "print(\"Student weight: \" ,weight)\n",
    "print(\"Is student present?: \" + str (is_present))"
   ]
  },
  {
   "cell_type": "markdown",
   "id": "8fd2bf51-d586-42ee-b260-5147b0d2450e",
   "metadata": {},
   "source": [
    "Formating can be done using comma , add and f"
   ]
  },
  {
   "cell_type": "code",
   "execution_count": null,
   "id": "81c57088-d186-40be-87bb-4848e7e4d4b4",
   "metadata": {},
   "outputs": [],
   "source": []
  }
 ],
 "metadata": {
  "kernelspec": {
   "display_name": "Python 3 (ipykernel)",
   "language": "python",
   "name": "python3"
  },
  "language_info": {
   "codemirror_mode": {
    "name": "ipython",
    "version": 3
   },
   "file_extension": ".py",
   "mimetype": "text/x-python",
   "name": "python",
   "nbconvert_exporter": "python",
   "pygments_lexer": "ipython3",
   "version": "3.11.7"
  }
 },
 "nbformat": 4,
 "nbformat_minor": 5
}
