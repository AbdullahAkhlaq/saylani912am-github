{
 "cells": [
  {
   "cell_type": "markdown",
   "id": "e3665727",
   "metadata": {},
   "source": [
    "## Tuples"
   ]
  },
  {
   "cell_type": "markdown",
   "id": "fc0f4759",
   "metadata": {},
   "source": [
    "##### Immutable (Cannot be changed)"
   ]
  },
  {
   "cell_type": "code",
   "execution_count": 3,
   "id": "cff5de39",
   "metadata": {},
   "outputs": [],
   "source": [
    "bio_data = ('Abdullah', 'Student', 'Bachelors')"
   ]
  },
  {
   "cell_type": "code",
   "execution_count": 5,
   "id": "aef6e126",
   "metadata": {},
   "outputs": [
    {
     "data": {
      "text/plain": [
       "tuple"
      ]
     },
     "execution_count": 5,
     "metadata": {},
     "output_type": "execute_result"
    }
   ],
   "source": [
    "type(bio_data)"
   ]
  },
  {
   "cell_type": "code",
   "execution_count": 6,
   "id": "03d0f62e",
   "metadata": {},
   "outputs": [
    {
     "data": {
      "text/plain": [
       "0"
      ]
     },
     "execution_count": 6,
     "metadata": {},
     "output_type": "execute_result"
    }
   ],
   "source": [
    "bio_data.index('Abdullah')"
   ]
  },
  {
   "cell_type": "code",
   "execution_count": null,
   "id": "7fd36783",
   "metadata": {},
   "outputs": [
    {
     "name": "stdout",
     "output_type": "stream",
     "text": [
      "1\n",
      "0\n"
     ]
    }
   ],
   "source": [
    "personal_bio = ('Abdullah', 21, '5.10 feet',21)\n",
    "print (personal_bio.index(21))\n",
    "print(personal_bio.index('Abdullah'))"
   ]
  },
  {
   "cell_type": "markdown",
   "id": "62ecfb9f",
   "metadata": {},
   "source": [
    "### Loops"
   ]
  },
  {
   "cell_type": "code",
   "execution_count": 15,
   "id": "1611facd",
   "metadata": {},
   "outputs": [],
   "source": [
    "fruits= ['Apple', 'Banana', 'Mango', 'Peach']"
   ]
  },
  {
   "cell_type": "code",
   "execution_count": 136,
   "id": "58617600",
   "metadata": {},
   "outputs": [
    {
     "data": {
      "text/plain": [
       "('Apple', 'Banana')"
      ]
     },
     "execution_count": 136,
     "metadata": {},
     "output_type": "execute_result"
    }
   ],
   "source": [
    "fruits[0], fruits[1]"
   ]
  },
  {
   "cell_type": "code",
   "execution_count": 17,
   "id": "4299bb67",
   "metadata": {},
   "outputs": [
    {
     "data": {
      "text/plain": [
       "<enumerate at 0x2024cf267f0>"
      ]
     },
     "execution_count": 17,
     "metadata": {},
     "output_type": "execute_result"
    }
   ],
   "source": [
    "enumerate(fruits)"
   ]
  },
  {
   "cell_type": "code",
   "execution_count": 18,
   "id": "5a1fd1dc",
   "metadata": {},
   "outputs": [
    {
     "name": "stdout",
     "output_type": "stream",
     "text": [
      "Apple\n",
      "Banana\n",
      "Mango\n",
      "Peach\n"
     ]
    }
   ],
   "source": [
    "for fruit in fruits:\n",
    "    print(fruit)"
   ]
  },
  {
   "cell_type": "code",
   "execution_count": 19,
   "id": "95bc6589",
   "metadata": {},
   "outputs": [],
   "source": [
    "em_fruits = enumerate"
   ]
  },
  {
   "cell_type": "code",
   "execution_count": 20,
   "id": "237c0f6e",
   "metadata": {},
   "outputs": [
    {
     "name": "stdout",
     "output_type": "stream",
     "text": [
      "Apple is at 0\n",
      "Banana is at 1\n",
      "Mango is at 2\n",
      "Peach is at 3\n"
     ]
    }
   ],
   "source": [
    "for data in enumerate(fruits):\n",
    "    print(f\"{data[1]} is at {data[0]}\")\n"
   ]
  },
  {
   "cell_type": "code",
   "execution_count": 24,
   "id": "f78bf52d",
   "metadata": {},
   "outputs": [
    {
     "name": "stdout",
     "output_type": "stream",
     "text": [
      "[0, 1, 2, 3]\n"
     ]
    },
    {
     "data": {
      "text/plain": [
       "['Apple', 'Banana', 'Mango', 'Peach']"
      ]
     },
     "execution_count": 24,
     "metadata": {},
     "output_type": "execute_result"
    }
   ],
   "source": [
    "fruits_index = [0,1,2,3]\n",
    "print(fruits_index)\n",
    "fruits"
   ]
  },
  {
   "cell_type": "code",
   "execution_count": 30,
   "id": "f38ca20c",
   "metadata": {},
   "outputs": [
    {
     "name": "stdout",
     "output_type": "stream",
     "text": [
      "(0, 'Apple')\n",
      "(1, 'Banana')\n",
      "(2, 'Mango')\n",
      "(3, 'Peach')\n"
     ]
    }
   ],
   "source": [
    "for data in zip(fruits_index,fruits):\n",
    "    print(data)"
   ]
  },
  {
   "cell_type": "code",
   "execution_count": 38,
   "id": "2cc42b30",
   "metadata": {},
   "outputs": [
    {
     "name": "stdout",
     "output_type": "stream",
     "text": [
      "2\n",
      "4\n"
     ]
    }
   ],
   "source": [
    "for temp in range(2,5,2):                           \n",
    "    print(temp)"
   ]
  },
  {
   "cell_type": "code",
   "execution_count": 42,
   "id": "44f53a72",
   "metadata": {},
   "outputs": [
    {
     "name": "stdout",
     "output_type": "stream",
     "text": [
      "1\n",
      "4\n",
      "7\n",
      "10\n",
      "13\n",
      "16\n",
      "19\n",
      "22\n",
      "25\n",
      "28\n",
      "31\n",
      "34\n",
      "37\n",
      "40\n",
      "43\n",
      "46\n",
      "49\n",
      "52\n",
      "55\n",
      "58\n"
     ]
    }
   ],
   "source": [
    "for num in range(1,61,3):\n",
    "    print(num)"
   ]
  },
  {
   "cell_type": "code",
   "execution_count": 47,
   "id": "b906e6ab",
   "metadata": {},
   "outputs": [
    {
     "name": "stdout",
     "output_type": "stream",
     "text": [
      "Apple\n",
      "Apple\n",
      "Apple\n",
      "Apple\n",
      "Apple\n",
      "\n"
     ]
    }
   ],
   "source": [
    "print('Apple\\n'*5)"
   ]
  },
  {
   "cell_type": "code",
   "execution_count": 64,
   "id": "da5fc9c5",
   "metadata": {},
   "outputs": [
    {
     "name": "stdout",
     "output_type": "stream",
     "text": [
      "\n"
     ]
    }
   ],
   "source": [
    "clean_cities = ['Karachi','Lahore','Islamabad']\n",
    "not_clean = []\n",
    "user_input = input(\"Enter city:\")\n",
    "if user_input in clean_cities:\n",
    "    print(\"Your city is clean\")\n",
    "else:\n",
    "    print(user_input)"
   ]
  },
  {
   "cell_type": "markdown",
   "id": "53369d29",
   "metadata": {},
   "source": [
    "## Dictionaries"
   ]
  },
  {
   "cell_type": "markdown",
   "id": "2e947693",
   "metadata": {},
   "source": [
    "key:value"
   ]
  },
  {
   "cell_type": "code",
   "execution_count": 69,
   "id": "38f2dfd8",
   "metadata": {},
   "outputs": [
    {
     "name": "stdout",
     "output_type": "stream",
     "text": [
      "<class 'dict'>\n"
     ]
    }
   ],
   "source": [
    "dict = {'age':21, 'weight':55}\n",
    "print(type(dict))"
   ]
  },
  {
   "cell_type": "code",
   "execution_count": 76,
   "id": "b331e8c2",
   "metadata": {},
   "outputs": [
    {
     "data": {
      "text/plain": [
       "21"
      ]
     },
     "execution_count": 76,
     "metadata": {},
     "output_type": "execute_result"
    }
   ],
   "source": [
    "dict['age']"
   ]
  },
  {
   "cell_type": "code",
   "execution_count": 78,
   "id": "79c6348b",
   "metadata": {},
   "outputs": [
    {
     "data": {
      "text/plain": [
       "{'first name': 'Abdullah', 'last name': 'Akhlaq', 'City': 'Shahkot'}"
      ]
     },
     "execution_count": 78,
     "metadata": {},
     "output_type": "execute_result"
    }
   ],
   "source": [
    "customer = {\"first name\": \"Abdullah\",\n",
    "            \"last name\": \"Akhlaq\",\n",
    "            \"City\": \"Shahkot\"}\n",
    "customer"
   ]
  },
  {
   "cell_type": "code",
   "execution_count": 80,
   "id": "c4f55853",
   "metadata": {},
   "outputs": [
    {
     "data": {
      "text/plain": [
       "'Shahkot'"
      ]
     },
     "execution_count": 80,
     "metadata": {},
     "output_type": "execute_result"
    }
   ],
   "source": [
    "customer['City']"
   ]
  },
  {
   "cell_type": "code",
   "execution_count": 84,
   "id": "5429eeb8",
   "metadata": {},
   "outputs": [
    {
     "data": {
      "text/plain": [
       "'Akhlaq'"
      ]
     },
     "execution_count": 84,
     "metadata": {},
     "output_type": "execute_result"
    }
   ],
   "source": [
    "dict_versitality = {1:'Abdullah',\n",
    "                    2:'Akhlaq',\n",
    "                    3:'Randhawa'}\n",
    "dict_versitality[2]"
   ]
  },
  {
   "cell_type": "code",
   "execution_count": 89,
   "id": "6cd7b1ea",
   "metadata": {},
   "outputs": [
    {
     "data": {
      "text/plain": [
       "{'first name': 'Abdullah',\n",
       " 'last name': 'Akhlaq',\n",
       " 'City': 'Shahkot',\n",
       " 'phone': '+923002315355',\n",
       " 'city': 'Karachi',\n",
       " 'area': 'DHA'}"
      ]
     },
     "execution_count": 89,
     "metadata": {},
     "output_type": "execute_result"
    }
   ],
   "source": [
    "# Add Values\n",
    "customer[\"phone\"] = '+923002315355'\n",
    "customer['area'] = 'DHA'\n",
    "customer"
   ]
  },
  {
   "cell_type": "code",
   "execution_count": 101,
   "id": "9e591658",
   "metadata": {},
   "outputs": [
    {
     "data": {
      "text/plain": [
       "{'Task:0': 'nashta', 'Task:1': 'parhai', 'Task:2': 'gym', 'Task:3': 'neend'}"
      ]
     },
     "execution_count": 101,
     "metadata": {},
     "output_type": "execute_result"
    }
   ],
   "source": [
    "dictionary={}\n",
    "taskCount = input(\"How many task you want to do\")\n",
    "for count in range(int(taskCount)):\n",
    "    dictionary['Task:'+str(count)]=input(\"Enter your task\")\n",
    "dictionary\n"
   ]
  },
  {
   "cell_type": "code",
   "execution_count": 106,
   "id": "0c3483ca",
   "metadata": {},
   "outputs": [
    {
     "data": {
      "text/plain": [
       "{'first name': 'Abdullah',\n",
       " 'last name': 'Akhlaq',\n",
       " 'City': 'Shahkot',\n",
       " 'area': 'DHA'}"
      ]
     },
     "execution_count": 106,
     "metadata": {},
     "output_type": "execute_result"
    }
   ],
   "source": [
    "del(customer['city'])\n",
    "customer"
   ]
  },
  {
   "cell_type": "code",
   "execution_count": 132,
   "id": "4ad3f247",
   "metadata": {},
   "outputs": [],
   "source": [
    "list_of_dict = {\n",
    "'first name': 'Abdullah', \n",
    "'last name': 'Akhlaq',\n",
    "'City': 'Shahkot',\n",
    "'area': 'DHA',\n",
    "'first name': 'Ali',\n",
    "'last name': 'qasim',\n",
    "'City': 'khi',\n",
    "'area': 'pashe 2',\n",
    "'first name': 'ahmed',\n",
    "'last name': 'khan',\n",
    "'City': 'lhr',\n",
    "'area': 'phase1'}\n",
    "\n"
   ]
  },
  {
   "cell_type": "code",
   "execution_count": 133,
   "id": "3a2b954e",
   "metadata": {},
   "outputs": [
    {
     "data": {
      "text/plain": [
       "'phase1'"
      ]
     },
     "execution_count": 133,
     "metadata": {},
     "output_type": "execute_result"
    }
   ],
   "source": [
    "list_of_dict['area']"
   ]
  }
 ],
 "metadata": {
  "kernelspec": {
   "display_name": "Python 3 (ipykernel)",
   "language": "python",
   "name": "python3"
  },
  "language_info": {
   "codemirror_mode": {
    "name": "ipython",
    "version": 3
   },
   "file_extension": ".py",
   "mimetype": "text/x-python",
   "name": "python",
   "nbconvert_exporter": "python",
   "pygments_lexer": "ipython3",
   "version": "3.12.3"
  }
 },
 "nbformat": 4,
 "nbformat_minor": 5
}
