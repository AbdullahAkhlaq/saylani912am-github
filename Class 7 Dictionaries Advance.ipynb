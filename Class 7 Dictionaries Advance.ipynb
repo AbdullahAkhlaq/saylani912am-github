{
 "cells": [
  {
   "cell_type": "code",
   "execution_count": 5,
   "metadata": {},
   "outputs": [
    {
     "data": {
      "text/plain": [
       "dict_items([('fname', 'Abdullah'), ('lname', 'Akhlaq'), ('age', '22')])"
      ]
     },
     "execution_count": 5,
     "metadata": {},
     "output_type": "execute_result"
    }
   ],
   "source": [
    "bio = {\n",
    "    \"fname\":\"Abdullah\",\n",
    "    \"lname\":\"Akhlaq\",\n",
    "    \"age\": \"22\",\n",
    "}\n",
    "\n",
    "bio.items()"
   ]
  },
  {
   "cell_type": "code",
   "execution_count": 6,
   "metadata": {},
   "outputs": [
    {
     "name": "stdout",
     "output_type": "stream",
     "text": [
      "Key is \"fname\" and values Abdullah\n",
      "Key is \"lname\" and values Akhlaq\n",
      "Key is \"age\" and values 22\n"
     ]
    },
    {
     "data": {
      "text/plain": [
       "('fname', 'Abdullah')"
      ]
     },
     "execution_count": 6,
     "metadata": {},
     "output_type": "execute_result"
    }
   ],
   "source": [
    "for key, value in bio.items():\n",
    "    print(f\"Key is \\\"{key}\\\" and values {value}\")\n",
    "\n",
    "list(bio.items())[0]"
   ]
  },
  {
   "cell_type": "code",
   "execution_count": 7,
   "metadata": {},
   "outputs": [],
   "source": [
    "customer={\n",
    "    \"id\":\"01\",\n",
    "    \"name\":\"qasim\",\n",
    "    \"id\":\"02\",\n",
    "    \"name\":\"ali\",\n",
    "    \"id\":\"02\",\n",
    "    \"name\":\"pop\"\n",
    "}"
   ]
  },
  {
   "cell_type": "code",
   "execution_count": 8,
   "metadata": {},
   "outputs": [
    {
     "data": {
      "text/plain": [
       "2"
      ]
     },
     "execution_count": 8,
     "metadata": {},
     "output_type": "execute_result"
    }
   ],
   "source": [
    "len(customer)"
   ]
  },
  {
   "cell_type": "code",
   "execution_count": 9,
   "metadata": {},
   "outputs": [],
   "source": [
    "saylani = {\"python\":{\"timings\":\"mwf\",\n",
    "                    \"instructor\":\"ayan\"},\n",
    "            \"data engineering\":{\"timing\":\"TTS\",\n",
    "                                \"instructor\":\"dawood\"}\n",
    "        }"
   ]
  },
  {
   "cell_type": "code",
   "execution_count": 15,
   "metadata": {},
   "outputs": [
    {
     "name": "stdout",
     "output_type": "stream",
     "text": [
      "key is : python\n",
      "value is : {'timings': 'mwf', 'instructor': 'ayan'}\n",
      "ayan\n",
      "key is : data engineering\n",
      "value is : {'timing': 'TTS', 'instructor': 'dawood'}\n",
      "dawood\n"
     ]
    }
   ],
   "source": [
    "for key, value in saylani.items():\n",
    "    print(f\"key is : {key}\")\n",
    "    print(f\"value is : {value}\")\n",
    "    print(saylani[key][\"instructor\"])"
   ]
  },
  {
   "cell_type": "code",
   "execution_count": null,
   "metadata": {},
   "outputs": [],
   "source": []
  }
 ],
 "metadata": {
  "kernelspec": {
   "display_name": "env-python-912",
   "language": "python",
   "name": "python3"
  },
  "language_info": {
   "codemirror_mode": {
    "name": "ipython",
    "version": 3
   },
   "file_extension": ".py",
   "mimetype": "text/x-python",
   "name": "python",
   "nbconvert_exporter": "python",
   "pygments_lexer": "ipython3",
   "version": "3.12.3"
  }
 },
 "nbformat": 4,
 "nbformat_minor": 2
}
